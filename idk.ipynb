{
 "cells": [
  {
   "cell_type": "code",
   "execution_count": 3,
   "metadata": {},
   "outputs": [
    {
     "name": "stdout",
     "output_type": "stream",
     "text": [
      "Name: PennyLane\n",
      "Version: 0.40.0\n",
      "Summary: PennyLane is a cross-platform Python library for quantum computing, quantum machine learning, and quantum chemistry. Train a quantum computer the same way as a neural network.\n",
      "Home-page: https://github.com/PennyLaneAI/pennylane\n",
      "Author: \n",
      "Author-email: \n",
      "License: Apache License 2.0\n",
      "Location: /home/pheonix/Desktop/DEV_bkup/DEV/Qsharp/.venv/lib/python3.12/site-packages\n",
      "Requires: appdirs, autograd, autoray, cachetools, diastatic-malt, networkx, numpy, packaging, pennylane-lightning, requests, rustworkx, scipy, tomlkit, typing-extensions\n",
      "Required-by: PennyLane_Lightning\n",
      "\n",
      "Platform info:           Linux-6.11.0-17-generic-x86_64-with-glibc2.39\n",
      "Python version:          3.12.3\n",
      "Numpy version:           2.0.2\n",
      "Scipy version:           1.15.2\n",
      "Installed devices:\n",
      "- lightning.qubit (PennyLane_Lightning-0.40.0)\n",
      "- default.clifford (PennyLane-0.40.0)\n",
      "- default.gaussian (PennyLane-0.40.0)\n",
      "- default.mixed (PennyLane-0.40.0)\n",
      "- default.qubit (PennyLane-0.40.0)\n",
      "- default.qutrit (PennyLane-0.40.0)\n",
      "- default.qutrit.mixed (PennyLane-0.40.0)\n",
      "- default.tensor (PennyLane-0.40.0)\n",
      "- null.qubit (PennyLane-0.40.0)\n",
      "- reference.qubit (PennyLane-0.40.0)\n"
     ]
    }
   ],
   "source": [
    "import pennylane as qml\n",
    "from pennylane import numpy as numpy\n",
    "\n",
    "qml.about()\n"
   ]
  },
  {
   "cell_type": "code",
   "execution_count": null,
   "metadata": {},
   "outputs": [],
   "source": [
    "def circuit(params):\n",
    "    qml.RX(params[0],wires = 0)\n",
    "    qml.RY(params[1],wires = 0) # \n",
    "    return qml.expval(qml.PauliZ(0)) # expectation value is ⟨Z⟩=P(∣0⟩)−P(∣1⟩)"
   ]
  },
  {
   "cell_type": "code",
   "execution_count": 10,
   "metadata": {},
   "outputs": [
    {
     "ename": "ModuleNotFoundError",
     "evalue": "No module named 'braket'",
     "output_type": "error",
     "traceback": [
      "\u001b[0;31m---------------------------------------------------------------------------\u001b[0m",
      "\u001b[0;31mModuleNotFoundError\u001b[0m                       Traceback (most recent call last)",
      "Cell \u001b[0;32mIn[10], line 1\u001b[0m\n\u001b[0;32m----> 1\u001b[0m \u001b[38;5;28;01mfrom\u001b[39;00m\u001b[38;5;250m \u001b[39m\u001b[38;5;21;01mbraket\u001b[39;00m\u001b[38;5;21;01m.\u001b[39;00m\u001b[38;5;21;01mdevices\u001b[39;00m\u001b[38;5;250m \u001b[39m\u001b[38;5;28;01mimport\u001b[39;00m Devices\n\u001b[1;32m      2\u001b[0m \u001b[38;5;28;01mfrom\u001b[39;00m\u001b[38;5;250m \u001b[39m\u001b[38;5;21;01mbraket\u001b[39;00m\u001b[38;5;21;01m.\u001b[39;00m\u001b[38;5;21;01maws\u001b[39;00m\u001b[38;5;250m \u001b[39m\u001b[38;5;28;01mimport\u001b[39;00m AwsDevice\n\u001b[1;32m      4\u001b[0m qpu_device  \u001b[38;5;241m=\u001b[39m Devices\u001b[38;5;241m.\u001b[39mRigetti\u001b[38;5;241m.\u001b[39mAspenM3\n",
      "\u001b[0;31mModuleNotFoundError\u001b[0m: No module named 'braket'"
     ]
    }
   ],
   "source": [
    "from braket.devices import Devices\n",
    "from braket.aws import AwsDevice\n",
    "\n",
    "qpu_device  = Devices.Rigetti.AspenM3\n",
    "qpu_device = qpu_device.value\n",
    "qpu_device_avaliable = False\n",
    "if AwsDevice(qpu_device_arn).is_avaliable:\n",
    "    device_arn = qpu_device_arn\n",
    "    qpu_device_avaliable = True\n",
    "\n",
    "else:\n",
    "    device_arn = \"local:pennylane/lightning.qubit\"\n",
    "    print(\"AspenM3 is not there Fall Back initiated\")"
   ]
  },
  {
   "cell_type": "code",
   "execution_count": 15,
   "metadata": {},
   "outputs": [
    {
     "data": {
      "text/plain": [
       "(((np.float64(0.6), np.float64(1.0)),\n",
       "  (np.float64(-0.4), np.float64(1.0)),\n",
       "  (np.float64(-0.03), np.float64(0.846))),\n",
       " (np.float64(0.6), np.float64(1.0)))"
      ]
     },
     "execution_count": 15,
     "metadata": {},
     "output_type": "execute_result"
    }
   ],
   "source": [
    "shots_list = [5, 10, 1000]\n",
    "dev = qml.device(\"default.qubit\", wires=2, shots=shots_list)\n",
    "\n",
    "@qml.qnode(dev)\n",
    "def circuit(x):\n",
    "    qml.RX(x, wires=0)\n",
    "    qml.CNOT(wires=[0, 1])\n",
    "    return qml.expval(qml.PauliZ(0) @ qml.PauliX(1)), qml.expval(qml.PauliZ(0))\n",
    "results = circuit(0.5)\n",
    "results,results[0]"
   ]
  }
 ],
 "metadata": {
  "kernelspec": {
   "display_name": ".venv",
   "language": "python",
   "name": "python3"
  },
  "language_info": {
   "codemirror_mode": {
    "name": "ipython",
    "version": 3
   },
   "file_extension": ".py",
   "mimetype": "text/x-python",
   "name": "python",
   "nbconvert_exporter": "python",
   "pygments_lexer": "ipython3",
   "version": "3.12.3"
  }
 },
 "nbformat": 4,
 "nbformat_minor": 2
}
