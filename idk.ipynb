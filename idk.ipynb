{
 "cells": [
  {
   "cell_type": "code",
   "execution_count": 3,
   "metadata": {},
   "outputs": [
    {
     "name": "stdout",
     "output_type": "stream",
     "text": [
      "Name: PennyLane\n",
      "Version: 0.40.0\n",
      "Summary: PennyLane is a cross-platform Python library for quantum computing, quantum machine learning, and quantum chemistry. Train a quantum computer the same way as a neural network.\n",
      "Home-page: https://github.com/PennyLaneAI/pennylane\n",
      "Author: \n",
      "Author-email: \n",
      "License: Apache License 2.0\n",
      "Location: /home/pheonix/Desktop/DEV_bkup/DEV/Qsharp/.venv/lib/python3.12/site-packages\n",
      "Requires: appdirs, autograd, autoray, cachetools, diastatic-malt, networkx, numpy, packaging, pennylane-lightning, requests, rustworkx, scipy, tomlkit, typing-extensions\n",
      "Required-by: PennyLane_Lightning\n",
      "\n",
      "Platform info:           Linux-6.11.0-17-generic-x86_64-with-glibc2.39\n",
      "Python version:          3.12.3\n",
      "Numpy version:           2.0.2\n",
      "Scipy version:           1.15.2\n",
      "Installed devices:\n",
      "- lightning.qubit (PennyLane_Lightning-0.40.0)\n",
      "- default.clifford (PennyLane-0.40.0)\n",
      "- default.gaussian (PennyLane-0.40.0)\n",
      "- default.mixed (PennyLane-0.40.0)\n",
      "- default.qubit (PennyLane-0.40.0)\n",
      "- default.qutrit (PennyLane-0.40.0)\n",
      "- default.qutrit.mixed (PennyLane-0.40.0)\n",
      "- default.tensor (PennyLane-0.40.0)\n",
      "- null.qubit (PennyLane-0.40.0)\n",
      "- reference.qubit (PennyLane-0.40.0)\n"
     ]
    }
   ],
   "source": [
    "import pennylane as qml\n",
    "from pennylane import numpy as numpy\n",
    "\n",
    "qml.about()\n"
   ]
  },
  {
   "cell_type": "code",
   "execution_count": null,
   "metadata": {},
   "outputs": [],
   "source": [
    "def circuit(params):\n",
    "    qml.RX(params[0],wires = 0)\n",
    "    qml.RY(params[1],wires = 0) # \n",
    "    return qml.expval(qml.PauliZ(0)) # expectation value is ⟨Z⟩=P(∣0⟩)−P(∣1⟩)"
   ]
  },
  {
   "cell_type": "code",
   "execution_count": 6,
   "metadata": {},
   "outputs": [
    {
     "ename": "NoRegionError",
     "evalue": "You must specify a region.",
     "output_type": "error",
     "traceback": [
      "\u001b[0;31m---------------------------------------------------------------------------\u001b[0m",
      "\u001b[0;31mNoRegionError\u001b[0m                             Traceback (most recent call last)",
      "Cell \u001b[0;32mIn[6], line 23\u001b[0m\n\u001b[1;32m     20\u001b[0m qpu_device_arn \u001b[38;5;241m=\u001b[39m \u001b[38;5;124m\"\u001b[39m\u001b[38;5;124marn:aws:braket:us-west-1::device/qpu/rigetti/Aspen-M-3\u001b[39m\u001b[38;5;124m\"\u001b[39m\n\u001b[1;32m     22\u001b[0m \u001b[38;5;66;03m# Load the device\u001b[39;00m\n\u001b[0;32m---> 23\u001b[0m qpu_device \u001b[38;5;241m=\u001b[39m \u001b[43mAwsDevice\u001b[49m\u001b[43m(\u001b[49m\u001b[43mqpu_device_arn\u001b[49m\u001b[43m)\u001b[49m\n\u001b[1;32m     25\u001b[0m \u001b[38;5;66;03m# Check if the device is available\u001b[39;00m\n\u001b[1;32m     26\u001b[0m qpu_available \u001b[38;5;241m=\u001b[39m qpu_device\u001b[38;5;241m.\u001b[39mis_available\n",
      "File \u001b[0;32m~/Desktop/DEV_bkup/DEV/Qsharp/.venv/lib/python3.12/site-packages/braket/aws/aws_device.py:114\u001b[0m, in \u001b[0;36mAwsDevice.__init__\u001b[0;34m(self, arn, aws_session, noise_model)\u001b[0m\n\u001b[1;32m    112\u001b[0m \u001b[38;5;28mself\u001b[39m\u001b[38;5;241m.\u001b[39m_poll_interval_seconds \u001b[38;5;241m=\u001b[39m \u001b[38;5;28;01mNone\u001b[39;00m\n\u001b[1;32m    113\u001b[0m \u001b[38;5;28mself\u001b[39m\u001b[38;5;241m.\u001b[39m_type \u001b[38;5;241m=\u001b[39m \u001b[38;5;28;01mNone\u001b[39;00m\n\u001b[0;32m--> 114\u001b[0m \u001b[38;5;28mself\u001b[39m\u001b[38;5;241m.\u001b[39m_aws_session \u001b[38;5;241m=\u001b[39m \u001b[38;5;28mself\u001b[39m\u001b[38;5;241m.\u001b[39m_get_session_and_initialize(aws_session \u001b[38;5;129;01mor\u001b[39;00m \u001b[43mAwsSession\u001b[49m\u001b[43m(\u001b[49m\u001b[43m)\u001b[49m)\n\u001b[1;32m    115\u001b[0m \u001b[38;5;28mself\u001b[39m\u001b[38;5;241m.\u001b[39m_ports \u001b[38;5;241m=\u001b[39m \u001b[38;5;28;01mNone\u001b[39;00m\n\u001b[1;32m    116\u001b[0m \u001b[38;5;28mself\u001b[39m\u001b[38;5;241m.\u001b[39m_frames \u001b[38;5;241m=\u001b[39m \u001b[38;5;28;01mNone\u001b[39;00m\n",
      "File \u001b[0;32m~/Desktop/DEV_bkup/DEV/Qsharp/.venv/lib/python3.12/site-packages/braket/aws/aws_session.py:86\u001b[0m, in \u001b[0;36mAwsSession.__init__\u001b[0;34m(self, boto_session, braket_client, config, default_bucket)\u001b[0m\n\u001b[1;32m     82\u001b[0m \u001b[38;5;28;01melse\u001b[39;00m:\n\u001b[1;32m     83\u001b[0m     \u001b[38;5;28mself\u001b[39m\u001b[38;5;241m.\u001b[39mboto_session \u001b[38;5;241m=\u001b[39m boto_session \u001b[38;5;129;01mor\u001b[39;00m boto3\u001b[38;5;241m.\u001b[39mSession(\n\u001b[1;32m     84\u001b[0m         region_name\u001b[38;5;241m=\u001b[39mos\u001b[38;5;241m.\u001b[39menviron\u001b[38;5;241m.\u001b[39mget(\u001b[38;5;124m\"\u001b[39m\u001b[38;5;124mAWS_REGION\u001b[39m\u001b[38;5;124m\"\u001b[39m)\n\u001b[1;32m     85\u001b[0m     )\n\u001b[0;32m---> 86\u001b[0m     \u001b[38;5;28mself\u001b[39m\u001b[38;5;241m.\u001b[39mbraket_client \u001b[38;5;241m=\u001b[39m \u001b[38;5;28;43mself\u001b[39;49m\u001b[38;5;241;43m.\u001b[39;49m\u001b[43mboto_session\u001b[49m\u001b[38;5;241;43m.\u001b[39;49m\u001b[43mclient\u001b[49m\u001b[43m(\u001b[49m\n\u001b[1;32m     87\u001b[0m \u001b[43m        \u001b[49m\u001b[38;5;124;43m\"\u001b[39;49m\u001b[38;5;124;43mbraket\u001b[39;49m\u001b[38;5;124;43m\"\u001b[39;49m\u001b[43m,\u001b[49m\u001b[43m \u001b[49m\u001b[43mconfig\u001b[49m\u001b[38;5;241;43m=\u001b[39;49m\u001b[38;5;28;43mself\u001b[39;49m\u001b[38;5;241;43m.\u001b[39;49m\u001b[43m_config\u001b[49m\u001b[43m,\u001b[49m\u001b[43m \u001b[49m\u001b[43mendpoint_url\u001b[49m\u001b[38;5;241;43m=\u001b[39;49m\u001b[43mos\u001b[49m\u001b[38;5;241;43m.\u001b[39;49m\u001b[43menviron\u001b[49m\u001b[38;5;241;43m.\u001b[39;49m\u001b[43mget\u001b[49m\u001b[43m(\u001b[49m\u001b[38;5;124;43m\"\u001b[39;49m\u001b[38;5;124;43mBRAKET_ENDPOINT\u001b[39;49m\u001b[38;5;124;43m\"\u001b[39;49m\u001b[43m)\u001b[49m\n\u001b[1;32m     88\u001b[0m \u001b[43m    \u001b[49m\u001b[43m)\u001b[49m\n\u001b[1;32m     89\u001b[0m \u001b[38;5;28mself\u001b[39m\u001b[38;5;241m.\u001b[39m_update_user_agent()\n\u001b[1;32m     90\u001b[0m \u001b[38;5;28mself\u001b[39m\u001b[38;5;241m.\u001b[39m_custom_default_bucket \u001b[38;5;241m=\u001b[39m \u001b[38;5;28mbool\u001b[39m(default_bucket)\n",
      "File \u001b[0;32m~/Desktop/DEV_bkup/DEV/Qsharp/.venv/lib/python3.12/site-packages/boto3/session.py:322\u001b[0m, in \u001b[0;36mSession.client\u001b[0;34m(self, service_name, region_name, api_version, use_ssl, verify, endpoint_url, aws_access_key_id, aws_secret_access_key, aws_session_token, config, aws_account_id)\u001b[0m\n\u001b[1;32m    235\u001b[0m \u001b[38;5;28;01mdef\u001b[39;00m\u001b[38;5;250m \u001b[39m\u001b[38;5;21mclient\u001b[39m(\n\u001b[1;32m    236\u001b[0m     \u001b[38;5;28mself\u001b[39m,\n\u001b[1;32m    237\u001b[0m     service_name,\n\u001b[0;32m   (...)\u001b[0m\n\u001b[1;32m    247\u001b[0m     aws_account_id\u001b[38;5;241m=\u001b[39m\u001b[38;5;28;01mNone\u001b[39;00m,\n\u001b[1;32m    248\u001b[0m ):\n\u001b[1;32m    249\u001b[0m \u001b[38;5;250m    \u001b[39m\u001b[38;5;124;03m\"\"\"\u001b[39;00m\n\u001b[1;32m    250\u001b[0m \u001b[38;5;124;03m    Create a low-level service client by name.\u001b[39;00m\n\u001b[1;32m    251\u001b[0m \n\u001b[0;32m   (...)\u001b[0m\n\u001b[1;32m    320\u001b[0m \n\u001b[1;32m    321\u001b[0m \u001b[38;5;124;03m    \"\"\"\u001b[39;00m\n\u001b[0;32m--> 322\u001b[0m     \u001b[38;5;28;01mreturn\u001b[39;00m \u001b[38;5;28;43mself\u001b[39;49m\u001b[38;5;241;43m.\u001b[39;49m\u001b[43m_session\u001b[49m\u001b[38;5;241;43m.\u001b[39;49m\u001b[43mcreate_client\u001b[49m\u001b[43m(\u001b[49m\n\u001b[1;32m    323\u001b[0m \u001b[43m        \u001b[49m\u001b[43mservice_name\u001b[49m\u001b[43m,\u001b[49m\n\u001b[1;32m    324\u001b[0m \u001b[43m        \u001b[49m\u001b[43mregion_name\u001b[49m\u001b[38;5;241;43m=\u001b[39;49m\u001b[43mregion_name\u001b[49m\u001b[43m,\u001b[49m\n\u001b[1;32m    325\u001b[0m \u001b[43m        \u001b[49m\u001b[43mapi_version\u001b[49m\u001b[38;5;241;43m=\u001b[39;49m\u001b[43mapi_version\u001b[49m\u001b[43m,\u001b[49m\n\u001b[1;32m    326\u001b[0m \u001b[43m        \u001b[49m\u001b[43muse_ssl\u001b[49m\u001b[38;5;241;43m=\u001b[39;49m\u001b[43muse_ssl\u001b[49m\u001b[43m,\u001b[49m\n\u001b[1;32m    327\u001b[0m \u001b[43m        \u001b[49m\u001b[43mverify\u001b[49m\u001b[38;5;241;43m=\u001b[39;49m\u001b[43mverify\u001b[49m\u001b[43m,\u001b[49m\n\u001b[1;32m    328\u001b[0m \u001b[43m        \u001b[49m\u001b[43mendpoint_url\u001b[49m\u001b[38;5;241;43m=\u001b[39;49m\u001b[43mendpoint_url\u001b[49m\u001b[43m,\u001b[49m\n\u001b[1;32m    329\u001b[0m \u001b[43m        \u001b[49m\u001b[43maws_access_key_id\u001b[49m\u001b[38;5;241;43m=\u001b[39;49m\u001b[43maws_access_key_id\u001b[49m\u001b[43m,\u001b[49m\n\u001b[1;32m    330\u001b[0m \u001b[43m        \u001b[49m\u001b[43maws_secret_access_key\u001b[49m\u001b[38;5;241;43m=\u001b[39;49m\u001b[43maws_secret_access_key\u001b[49m\u001b[43m,\u001b[49m\n\u001b[1;32m    331\u001b[0m \u001b[43m        \u001b[49m\u001b[43maws_session_token\u001b[49m\u001b[38;5;241;43m=\u001b[39;49m\u001b[43maws_session_token\u001b[49m\u001b[43m,\u001b[49m\n\u001b[1;32m    332\u001b[0m \u001b[43m        \u001b[49m\u001b[43mconfig\u001b[49m\u001b[38;5;241;43m=\u001b[39;49m\u001b[43mconfig\u001b[49m\u001b[43m,\u001b[49m\n\u001b[1;32m    333\u001b[0m \u001b[43m        \u001b[49m\u001b[43maws_account_id\u001b[49m\u001b[38;5;241;43m=\u001b[39;49m\u001b[43maws_account_id\u001b[49m\u001b[43m,\u001b[49m\n\u001b[1;32m    334\u001b[0m \u001b[43m    \u001b[49m\u001b[43m)\u001b[49m\n",
      "File \u001b[0;32m~/Desktop/DEV_bkup/DEV/Qsharp/.venv/lib/python3.12/site-packages/botocore/session.py:1015\u001b[0m, in \u001b[0;36mSession.create_client\u001b[0;34m(self, service_name, region_name, api_version, use_ssl, verify, endpoint_url, aws_access_key_id, aws_secret_access_key, aws_session_token, config, aws_account_id)\u001b[0m\n\u001b[1;32m    998\u001b[0m \u001b[38;5;28mself\u001b[39m\u001b[38;5;241m.\u001b[39m_add_configured_endpoint_provider(\n\u001b[1;32m    999\u001b[0m     client_name\u001b[38;5;241m=\u001b[39mservice_name,\n\u001b[1;32m   1000\u001b[0m     config_store\u001b[38;5;241m=\u001b[39mconfig_store,\n\u001b[1;32m   1001\u001b[0m )\n\u001b[1;32m   1003\u001b[0m client_creator \u001b[38;5;241m=\u001b[39m botocore\u001b[38;5;241m.\u001b[39mclient\u001b[38;5;241m.\u001b[39mClientCreator(\n\u001b[1;32m   1004\u001b[0m     loader,\n\u001b[1;32m   1005\u001b[0m     endpoint_resolver,\n\u001b[0;32m   (...)\u001b[0m\n\u001b[1;32m   1013\u001b[0m     user_agent_creator\u001b[38;5;241m=\u001b[39muser_agent_creator,\n\u001b[1;32m   1014\u001b[0m )\n\u001b[0;32m-> 1015\u001b[0m client \u001b[38;5;241m=\u001b[39m \u001b[43mclient_creator\u001b[49m\u001b[38;5;241;43m.\u001b[39;49m\u001b[43mcreate_client\u001b[49m\u001b[43m(\u001b[49m\n\u001b[1;32m   1016\u001b[0m \u001b[43m    \u001b[49m\u001b[43mservice_name\u001b[49m\u001b[38;5;241;43m=\u001b[39;49m\u001b[43mservice_name\u001b[49m\u001b[43m,\u001b[49m\n\u001b[1;32m   1017\u001b[0m \u001b[43m    \u001b[49m\u001b[43mregion_name\u001b[49m\u001b[38;5;241;43m=\u001b[39;49m\u001b[43mregion_name\u001b[49m\u001b[43m,\u001b[49m\n\u001b[1;32m   1018\u001b[0m \u001b[43m    \u001b[49m\u001b[43mis_secure\u001b[49m\u001b[38;5;241;43m=\u001b[39;49m\u001b[43muse_ssl\u001b[49m\u001b[43m,\u001b[49m\n\u001b[1;32m   1019\u001b[0m \u001b[43m    \u001b[49m\u001b[43mendpoint_url\u001b[49m\u001b[38;5;241;43m=\u001b[39;49m\u001b[43mendpoint_url\u001b[49m\u001b[43m,\u001b[49m\n\u001b[1;32m   1020\u001b[0m \u001b[43m    \u001b[49m\u001b[43mverify\u001b[49m\u001b[38;5;241;43m=\u001b[39;49m\u001b[43mverify\u001b[49m\u001b[43m,\u001b[49m\n\u001b[1;32m   1021\u001b[0m \u001b[43m    \u001b[49m\u001b[43mcredentials\u001b[49m\u001b[38;5;241;43m=\u001b[39;49m\u001b[43mcredentials\u001b[49m\u001b[43m,\u001b[49m\n\u001b[1;32m   1022\u001b[0m \u001b[43m    \u001b[49m\u001b[43mscoped_config\u001b[49m\u001b[38;5;241;43m=\u001b[39;49m\u001b[38;5;28;43mself\u001b[39;49m\u001b[38;5;241;43m.\u001b[39;49m\u001b[43mget_scoped_config\u001b[49m\u001b[43m(\u001b[49m\u001b[43m)\u001b[49m\u001b[43m,\u001b[49m\n\u001b[1;32m   1023\u001b[0m \u001b[43m    \u001b[49m\u001b[43mclient_config\u001b[49m\u001b[38;5;241;43m=\u001b[39;49m\u001b[43mconfig\u001b[49m\u001b[43m,\u001b[49m\n\u001b[1;32m   1024\u001b[0m \u001b[43m    \u001b[49m\u001b[43mapi_version\u001b[49m\u001b[38;5;241;43m=\u001b[39;49m\u001b[43mapi_version\u001b[49m\u001b[43m,\u001b[49m\n\u001b[1;32m   1025\u001b[0m \u001b[43m    \u001b[49m\u001b[43mauth_token\u001b[49m\u001b[38;5;241;43m=\u001b[39;49m\u001b[43mauth_token\u001b[49m\u001b[43m,\u001b[49m\n\u001b[1;32m   1026\u001b[0m \u001b[43m\u001b[49m\u001b[43m)\u001b[49m\n\u001b[1;32m   1027\u001b[0m monitor \u001b[38;5;241m=\u001b[39m \u001b[38;5;28mself\u001b[39m\u001b[38;5;241m.\u001b[39m_get_internal_component(\u001b[38;5;124m'\u001b[39m\u001b[38;5;124mmonitor\u001b[39m\u001b[38;5;124m'\u001b[39m)\n\u001b[1;32m   1028\u001b[0m \u001b[38;5;28;01mif\u001b[39;00m monitor \u001b[38;5;129;01mis\u001b[39;00m \u001b[38;5;129;01mnot\u001b[39;00m \u001b[38;5;28;01mNone\u001b[39;00m:\n",
      "File \u001b[0;32m~/Desktop/DEV_bkup/DEV/Qsharp/.venv/lib/python3.12/site-packages/botocore/client.py:165\u001b[0m, in \u001b[0;36mClientCreator.create_client\u001b[0;34m(self, service_name, region_name, is_secure, endpoint_url, verify, credentials, scoped_config, api_version, client_config, auth_token)\u001b[0m\n\u001b[1;32m    154\u001b[0m     service_signature_version \u001b[38;5;241m=\u001b[39m service_model\u001b[38;5;241m.\u001b[39mmetadata\u001b[38;5;241m.\u001b[39mget(\n\u001b[1;32m    155\u001b[0m         \u001b[38;5;124m'\u001b[39m\u001b[38;5;124msignatureVersion\u001b[39m\u001b[38;5;124m'\u001b[39m\n\u001b[1;32m    156\u001b[0m     )\n\u001b[1;32m    157\u001b[0m endpoint_bridge \u001b[38;5;241m=\u001b[39m ClientEndpointBridge(\n\u001b[1;32m    158\u001b[0m     \u001b[38;5;28mself\u001b[39m\u001b[38;5;241m.\u001b[39m_endpoint_resolver,\n\u001b[1;32m    159\u001b[0m     scoped_config,\n\u001b[0;32m   (...)\u001b[0m\n\u001b[1;32m    163\u001b[0m     service_signature_version\u001b[38;5;241m=\u001b[39mservice_signature_version,\n\u001b[1;32m    164\u001b[0m )\n\u001b[0;32m--> 165\u001b[0m client_args \u001b[38;5;241m=\u001b[39m \u001b[38;5;28;43mself\u001b[39;49m\u001b[38;5;241;43m.\u001b[39;49m\u001b[43m_get_client_args\u001b[49m\u001b[43m(\u001b[49m\n\u001b[1;32m    166\u001b[0m \u001b[43m    \u001b[49m\u001b[43mservice_model\u001b[49m\u001b[43m,\u001b[49m\n\u001b[1;32m    167\u001b[0m \u001b[43m    \u001b[49m\u001b[43mregion_name\u001b[49m\u001b[43m,\u001b[49m\n\u001b[1;32m    168\u001b[0m \u001b[43m    \u001b[49m\u001b[43mis_secure\u001b[49m\u001b[43m,\u001b[49m\n\u001b[1;32m    169\u001b[0m \u001b[43m    \u001b[49m\u001b[43mendpoint_url\u001b[49m\u001b[43m,\u001b[49m\n\u001b[1;32m    170\u001b[0m \u001b[43m    \u001b[49m\u001b[43mverify\u001b[49m\u001b[43m,\u001b[49m\n\u001b[1;32m    171\u001b[0m \u001b[43m    \u001b[49m\u001b[43mcredentials\u001b[49m\u001b[43m,\u001b[49m\n\u001b[1;32m    172\u001b[0m \u001b[43m    \u001b[49m\u001b[43mscoped_config\u001b[49m\u001b[43m,\u001b[49m\n\u001b[1;32m    173\u001b[0m \u001b[43m    \u001b[49m\u001b[43mclient_config\u001b[49m\u001b[43m,\u001b[49m\n\u001b[1;32m    174\u001b[0m \u001b[43m    \u001b[49m\u001b[43mendpoint_bridge\u001b[49m\u001b[43m,\u001b[49m\n\u001b[1;32m    175\u001b[0m \u001b[43m    \u001b[49m\u001b[43mauth_token\u001b[49m\u001b[43m,\u001b[49m\n\u001b[1;32m    176\u001b[0m \u001b[43m    \u001b[49m\u001b[43mendpoints_ruleset_data\u001b[49m\u001b[43m,\u001b[49m\n\u001b[1;32m    177\u001b[0m \u001b[43m    \u001b[49m\u001b[43mpartition_data\u001b[49m\u001b[43m,\u001b[49m\n\u001b[1;32m    178\u001b[0m \u001b[43m\u001b[49m\u001b[43m)\u001b[49m\n\u001b[1;32m    179\u001b[0m service_client \u001b[38;5;241m=\u001b[39m \u001b[38;5;28mcls\u001b[39m(\u001b[38;5;241m*\u001b[39m\u001b[38;5;241m*\u001b[39mclient_args)\n\u001b[1;32m    180\u001b[0m \u001b[38;5;28mself\u001b[39m\u001b[38;5;241m.\u001b[39m_register_retries(service_client)\n",
      "File \u001b[0;32m~/Desktop/DEV_bkup/DEV/Qsharp/.venv/lib/python3.12/site-packages/botocore/client.py:524\u001b[0m, in \u001b[0;36mClientCreator._get_client_args\u001b[0;34m(self, service_model, region_name, is_secure, endpoint_url, verify, credentials, scoped_config, client_config, endpoint_bridge, auth_token, endpoints_ruleset_data, partition_data)\u001b[0m\n\u001b[1;32m    500\u001b[0m \u001b[38;5;28;01mdef\u001b[39;00m\u001b[38;5;250m \u001b[39m\u001b[38;5;21m_get_client_args\u001b[39m(\n\u001b[1;32m    501\u001b[0m     \u001b[38;5;28mself\u001b[39m,\n\u001b[1;32m    502\u001b[0m     service_model,\n\u001b[0;32m   (...)\u001b[0m\n\u001b[1;32m    513\u001b[0m     partition_data,\n\u001b[1;32m    514\u001b[0m ):\n\u001b[1;32m    515\u001b[0m     args_creator \u001b[38;5;241m=\u001b[39m ClientArgsCreator(\n\u001b[1;32m    516\u001b[0m         \u001b[38;5;28mself\u001b[39m\u001b[38;5;241m.\u001b[39m_event_emitter,\n\u001b[1;32m    517\u001b[0m         \u001b[38;5;28mself\u001b[39m\u001b[38;5;241m.\u001b[39m_user_agent,\n\u001b[0;32m   (...)\u001b[0m\n\u001b[1;32m    522\u001b[0m         user_agent_creator\u001b[38;5;241m=\u001b[39m\u001b[38;5;28mself\u001b[39m\u001b[38;5;241m.\u001b[39m_user_agent_creator,\n\u001b[1;32m    523\u001b[0m     )\n\u001b[0;32m--> 524\u001b[0m     \u001b[38;5;28;01mreturn\u001b[39;00m \u001b[43margs_creator\u001b[49m\u001b[38;5;241;43m.\u001b[39;49m\u001b[43mget_client_args\u001b[49m\u001b[43m(\u001b[49m\n\u001b[1;32m    525\u001b[0m \u001b[43m        \u001b[49m\u001b[43mservice_model\u001b[49m\u001b[43m,\u001b[49m\n\u001b[1;32m    526\u001b[0m \u001b[43m        \u001b[49m\u001b[43mregion_name\u001b[49m\u001b[43m,\u001b[49m\n\u001b[1;32m    527\u001b[0m \u001b[43m        \u001b[49m\u001b[43mis_secure\u001b[49m\u001b[43m,\u001b[49m\n\u001b[1;32m    528\u001b[0m \u001b[43m        \u001b[49m\u001b[43mendpoint_url\u001b[49m\u001b[43m,\u001b[49m\n\u001b[1;32m    529\u001b[0m \u001b[43m        \u001b[49m\u001b[43mverify\u001b[49m\u001b[43m,\u001b[49m\n\u001b[1;32m    530\u001b[0m \u001b[43m        \u001b[49m\u001b[43mcredentials\u001b[49m\u001b[43m,\u001b[49m\n\u001b[1;32m    531\u001b[0m \u001b[43m        \u001b[49m\u001b[43mscoped_config\u001b[49m\u001b[43m,\u001b[49m\n\u001b[1;32m    532\u001b[0m \u001b[43m        \u001b[49m\u001b[43mclient_config\u001b[49m\u001b[43m,\u001b[49m\n\u001b[1;32m    533\u001b[0m \u001b[43m        \u001b[49m\u001b[43mendpoint_bridge\u001b[49m\u001b[43m,\u001b[49m\n\u001b[1;32m    534\u001b[0m \u001b[43m        \u001b[49m\u001b[43mauth_token\u001b[49m\u001b[43m,\u001b[49m\n\u001b[1;32m    535\u001b[0m \u001b[43m        \u001b[49m\u001b[43mendpoints_ruleset_data\u001b[49m\u001b[43m,\u001b[49m\n\u001b[1;32m    536\u001b[0m \u001b[43m        \u001b[49m\u001b[43mpartition_data\u001b[49m\u001b[43m,\u001b[49m\n\u001b[1;32m    537\u001b[0m \u001b[43m    \u001b[49m\u001b[43m)\u001b[49m\n",
      "File \u001b[0;32m~/Desktop/DEV_bkup/DEV/Qsharp/.venv/lib/python3.12/site-packages/botocore/args.py:124\u001b[0m, in \u001b[0;36mClientArgsCreator.get_client_args\u001b[0;34m(self, service_model, region_name, is_secure, endpoint_url, verify, credentials, scoped_config, client_config, endpoint_bridge, auth_token, endpoints_ruleset_data, partition_data)\u001b[0m\n\u001b[1;32m    109\u001b[0m \u001b[38;5;28;01mdef\u001b[39;00m\u001b[38;5;250m \u001b[39m\u001b[38;5;21mget_client_args\u001b[39m(\n\u001b[1;32m    110\u001b[0m     \u001b[38;5;28mself\u001b[39m,\n\u001b[1;32m    111\u001b[0m     service_model,\n\u001b[0;32m   (...)\u001b[0m\n\u001b[1;32m    122\u001b[0m     partition_data\u001b[38;5;241m=\u001b[39m\u001b[38;5;28;01mNone\u001b[39;00m,\n\u001b[1;32m    123\u001b[0m ):\n\u001b[0;32m--> 124\u001b[0m     final_args \u001b[38;5;241m=\u001b[39m \u001b[38;5;28;43mself\u001b[39;49m\u001b[38;5;241;43m.\u001b[39;49m\u001b[43mcompute_client_args\u001b[49m\u001b[43m(\u001b[49m\n\u001b[1;32m    125\u001b[0m \u001b[43m        \u001b[49m\u001b[43mservice_model\u001b[49m\u001b[43m,\u001b[49m\n\u001b[1;32m    126\u001b[0m \u001b[43m        \u001b[49m\u001b[43mclient_config\u001b[49m\u001b[43m,\u001b[49m\n\u001b[1;32m    127\u001b[0m \u001b[43m        \u001b[49m\u001b[43mendpoint_bridge\u001b[49m\u001b[43m,\u001b[49m\n\u001b[1;32m    128\u001b[0m \u001b[43m        \u001b[49m\u001b[43mregion_name\u001b[49m\u001b[43m,\u001b[49m\n\u001b[1;32m    129\u001b[0m \u001b[43m        \u001b[49m\u001b[43mendpoint_url\u001b[49m\u001b[43m,\u001b[49m\n\u001b[1;32m    130\u001b[0m \u001b[43m        \u001b[49m\u001b[43mis_secure\u001b[49m\u001b[43m,\u001b[49m\n\u001b[1;32m    131\u001b[0m \u001b[43m        \u001b[49m\u001b[43mscoped_config\u001b[49m\u001b[43m,\u001b[49m\n\u001b[1;32m    132\u001b[0m \u001b[43m    \u001b[49m\u001b[43m)\u001b[49m\n\u001b[1;32m    134\u001b[0m     service_name \u001b[38;5;241m=\u001b[39m final_args[\u001b[38;5;124m'\u001b[39m\u001b[38;5;124mservice_name\u001b[39m\u001b[38;5;124m'\u001b[39m]  \u001b[38;5;66;03m# noqa\u001b[39;00m\n\u001b[1;32m    135\u001b[0m     parameter_validation \u001b[38;5;241m=\u001b[39m final_args[\u001b[38;5;124m'\u001b[39m\u001b[38;5;124mparameter_validation\u001b[39m\u001b[38;5;124m'\u001b[39m]\n",
      "File \u001b[0;32m~/Desktop/DEV_bkup/DEV/Qsharp/.venv/lib/python3.12/site-packages/botocore/args.py:246\u001b[0m, in \u001b[0;36mClientArgsCreator.compute_client_args\u001b[0;34m(self, service_model, client_config, endpoint_bridge, region_name, endpoint_url, is_secure, scoped_config)\u001b[0m\n\u001b[1;32m    239\u001b[0m s3_config \u001b[38;5;241m=\u001b[39m \u001b[38;5;28mself\u001b[39m\u001b[38;5;241m.\u001b[39mcompute_s3_config(client_config)\n\u001b[1;32m    241\u001b[0m configured_endpoint_url \u001b[38;5;241m=\u001b[39m \u001b[38;5;28mself\u001b[39m\u001b[38;5;241m.\u001b[39m_compute_configured_endpoint_url(\n\u001b[1;32m    242\u001b[0m     client_config\u001b[38;5;241m=\u001b[39mclient_config,\n\u001b[1;32m    243\u001b[0m     endpoint_url\u001b[38;5;241m=\u001b[39mendpoint_url,\n\u001b[1;32m    244\u001b[0m )\n\u001b[0;32m--> 246\u001b[0m endpoint_config \u001b[38;5;241m=\u001b[39m \u001b[38;5;28;43mself\u001b[39;49m\u001b[38;5;241;43m.\u001b[39;49m\u001b[43m_compute_endpoint_config\u001b[49m\u001b[43m(\u001b[49m\n\u001b[1;32m    247\u001b[0m \u001b[43m    \u001b[49m\u001b[43mservice_name\u001b[49m\u001b[38;5;241;43m=\u001b[39;49m\u001b[43mservice_name\u001b[49m\u001b[43m,\u001b[49m\n\u001b[1;32m    248\u001b[0m \u001b[43m    \u001b[49m\u001b[43mregion_name\u001b[49m\u001b[38;5;241;43m=\u001b[39;49m\u001b[43mregion_name\u001b[49m\u001b[43m,\u001b[49m\n\u001b[1;32m    249\u001b[0m \u001b[43m    \u001b[49m\u001b[43mendpoint_url\u001b[49m\u001b[38;5;241;43m=\u001b[39;49m\u001b[43mconfigured_endpoint_url\u001b[49m\u001b[43m,\u001b[49m\n\u001b[1;32m    250\u001b[0m \u001b[43m    \u001b[49m\u001b[43mis_secure\u001b[49m\u001b[38;5;241;43m=\u001b[39;49m\u001b[43mis_secure\u001b[49m\u001b[43m,\u001b[49m\n\u001b[1;32m    251\u001b[0m \u001b[43m    \u001b[49m\u001b[43mendpoint_bridge\u001b[49m\u001b[38;5;241;43m=\u001b[39;49m\u001b[43mendpoint_bridge\u001b[49m\u001b[43m,\u001b[49m\n\u001b[1;32m    252\u001b[0m \u001b[43m    \u001b[49m\u001b[43ms3_config\u001b[49m\u001b[38;5;241;43m=\u001b[39;49m\u001b[43ms3_config\u001b[49m\u001b[43m,\u001b[49m\n\u001b[1;32m    253\u001b[0m \u001b[43m\u001b[49m\u001b[43m)\u001b[49m\n\u001b[1;32m    254\u001b[0m endpoint_variant_tags \u001b[38;5;241m=\u001b[39m endpoint_config[\u001b[38;5;124m'\u001b[39m\u001b[38;5;124mmetadata\u001b[39m\u001b[38;5;124m'\u001b[39m]\u001b[38;5;241m.\u001b[39mget(\u001b[38;5;124m'\u001b[39m\u001b[38;5;124mtags\u001b[39m\u001b[38;5;124m'\u001b[39m, [])\n\u001b[1;32m    256\u001b[0m \u001b[38;5;66;03m# Some third-party libraries expect the final user-agent string in\u001b[39;00m\n\u001b[1;32m    257\u001b[0m \u001b[38;5;66;03m# ``client.meta.config.user_agent``. To maintain backwards\u001b[39;00m\n\u001b[1;32m    258\u001b[0m \u001b[38;5;66;03m# compatibility, the preliminary user-agent string (before any Config\u001b[39;00m\n\u001b[1;32m    259\u001b[0m \u001b[38;5;66;03m# object modifications and without request-specific user-agent\u001b[39;00m\n\u001b[1;32m    260\u001b[0m \u001b[38;5;66;03m# components) is stored in the new Config object's ``user_agent``\u001b[39;00m\n\u001b[1;32m    261\u001b[0m \u001b[38;5;66;03m# property but not used by Botocore itself.\u001b[39;00m\n",
      "File \u001b[0;32m~/Desktop/DEV_bkup/DEV/Qsharp/.venv/lib/python3.12/site-packages/botocore/args.py:409\u001b[0m, in \u001b[0;36mClientArgsCreator._compute_endpoint_config\u001b[0;34m(self, service_name, region_name, endpoint_url, is_secure, endpoint_bridge, s3_config)\u001b[0m\n\u001b[1;32m    407\u001b[0m \u001b[38;5;28;01mif\u001b[39;00m service_name \u001b[38;5;241m==\u001b[39m \u001b[38;5;124m'\u001b[39m\u001b[38;5;124msts\u001b[39m\u001b[38;5;124m'\u001b[39m:\n\u001b[1;32m    408\u001b[0m     \u001b[38;5;28;01mreturn\u001b[39;00m \u001b[38;5;28mself\u001b[39m\u001b[38;5;241m.\u001b[39m_compute_sts_endpoint_config(\u001b[38;5;241m*\u001b[39m\u001b[38;5;241m*\u001b[39mresolve_endpoint_kwargs)\n\u001b[0;32m--> 409\u001b[0m \u001b[38;5;28;01mreturn\u001b[39;00m \u001b[38;5;28;43mself\u001b[39;49m\u001b[38;5;241;43m.\u001b[39;49m\u001b[43m_resolve_endpoint\u001b[49m\u001b[43m(\u001b[49m\u001b[38;5;241;43m*\u001b[39;49m\u001b[38;5;241;43m*\u001b[39;49m\u001b[43mresolve_endpoint_kwargs\u001b[49m\u001b[43m)\u001b[49m\n",
      "File \u001b[0;32m~/Desktop/DEV_bkup/DEV/Qsharp/.venv/lib/python3.12/site-packages/botocore/args.py:514\u001b[0m, in \u001b[0;36mClientArgsCreator._resolve_endpoint\u001b[0;34m(self, service_name, region_name, endpoint_url, is_secure, endpoint_bridge)\u001b[0m\n\u001b[1;32m    506\u001b[0m \u001b[38;5;28;01mdef\u001b[39;00m\u001b[38;5;250m \u001b[39m\u001b[38;5;21m_resolve_endpoint\u001b[39m(\n\u001b[1;32m    507\u001b[0m     \u001b[38;5;28mself\u001b[39m,\n\u001b[1;32m    508\u001b[0m     service_name,\n\u001b[0;32m   (...)\u001b[0m\n\u001b[1;32m    512\u001b[0m     endpoint_bridge,\n\u001b[1;32m    513\u001b[0m ):\n\u001b[0;32m--> 514\u001b[0m     \u001b[38;5;28;01mreturn\u001b[39;00m \u001b[43mendpoint_bridge\u001b[49m\u001b[38;5;241;43m.\u001b[39;49m\u001b[43mresolve\u001b[49m\u001b[43m(\u001b[49m\n\u001b[1;32m    515\u001b[0m \u001b[43m        \u001b[49m\u001b[43mservice_name\u001b[49m\u001b[43m,\u001b[49m\u001b[43m \u001b[49m\u001b[43mregion_name\u001b[49m\u001b[43m,\u001b[49m\u001b[43m \u001b[49m\u001b[43mendpoint_url\u001b[49m\u001b[43m,\u001b[49m\u001b[43m \u001b[49m\u001b[43mis_secure\u001b[49m\n\u001b[1;32m    516\u001b[0m \u001b[43m    \u001b[49m\u001b[43m)\u001b[49m\n",
      "File \u001b[0;32m~/Desktop/DEV_bkup/DEV/Qsharp/.venv/lib/python3.12/site-packages/botocore/client.py:629\u001b[0m, in \u001b[0;36mClientEndpointBridge.resolve\u001b[0;34m(self, service_name, region_name, endpoint_url, is_secure)\u001b[0m\n\u001b[1;32m    623\u001b[0m use_dualstack_endpoint \u001b[38;5;241m=\u001b[39m \u001b[38;5;28mself\u001b[39m\u001b[38;5;241m.\u001b[39m_resolve_use_dualstack_endpoint(\n\u001b[1;32m    624\u001b[0m     service_name\n\u001b[1;32m    625\u001b[0m )\n\u001b[1;32m    626\u001b[0m use_fips_endpoint \u001b[38;5;241m=\u001b[39m \u001b[38;5;28mself\u001b[39m\u001b[38;5;241m.\u001b[39m_resolve_endpoint_variant_config_var(\n\u001b[1;32m    627\u001b[0m     \u001b[38;5;124m'\u001b[39m\u001b[38;5;124muse_fips_endpoint\u001b[39m\u001b[38;5;124m'\u001b[39m\n\u001b[1;32m    628\u001b[0m )\n\u001b[0;32m--> 629\u001b[0m resolved \u001b[38;5;241m=\u001b[39m \u001b[38;5;28;43mself\u001b[39;49m\u001b[38;5;241;43m.\u001b[39;49m\u001b[43mendpoint_resolver\u001b[49m\u001b[38;5;241;43m.\u001b[39;49m\u001b[43mconstruct_endpoint\u001b[49m\u001b[43m(\u001b[49m\n\u001b[1;32m    630\u001b[0m \u001b[43m    \u001b[49m\u001b[43mservice_name\u001b[49m\u001b[43m,\u001b[49m\n\u001b[1;32m    631\u001b[0m \u001b[43m    \u001b[49m\u001b[43mregion_name\u001b[49m\u001b[43m,\u001b[49m\n\u001b[1;32m    632\u001b[0m \u001b[43m    \u001b[49m\u001b[43muse_dualstack_endpoint\u001b[49m\u001b[38;5;241;43m=\u001b[39;49m\u001b[43muse_dualstack_endpoint\u001b[49m\u001b[43m,\u001b[49m\n\u001b[1;32m    633\u001b[0m \u001b[43m    \u001b[49m\u001b[43muse_fips_endpoint\u001b[49m\u001b[38;5;241;43m=\u001b[39;49m\u001b[43muse_fips_endpoint\u001b[49m\u001b[43m,\u001b[49m\n\u001b[1;32m    634\u001b[0m \u001b[43m\u001b[49m\u001b[43m)\u001b[49m\n\u001b[1;32m    636\u001b[0m \u001b[38;5;66;03m# If we can't resolve the region, we'll attempt to get a global\u001b[39;00m\n\u001b[1;32m    637\u001b[0m \u001b[38;5;66;03m# endpoint for non-regionalized services (iam, route53, etc)\u001b[39;00m\n\u001b[1;32m    638\u001b[0m \u001b[38;5;28;01mif\u001b[39;00m \u001b[38;5;129;01mnot\u001b[39;00m resolved:\n\u001b[1;32m    639\u001b[0m     \u001b[38;5;66;03m# TODO: fallback partition_name should be configurable in the\u001b[39;00m\n\u001b[1;32m    640\u001b[0m     \u001b[38;5;66;03m# future for users to define as needed.\u001b[39;00m\n",
      "File \u001b[0;32m~/Desktop/DEV_bkup/DEV/Qsharp/.venv/lib/python3.12/site-packages/botocore/regions.py:232\u001b[0m, in \u001b[0;36mEndpointResolver.construct_endpoint\u001b[0;34m(self, service_name, region_name, partition_name, use_dualstack_endpoint, use_fips_endpoint)\u001b[0m\n\u001b[1;32m    227\u001b[0m \u001b[38;5;28;01mif\u001b[39;00m use_dualstack_endpoint \u001b[38;5;129;01mand\u001b[39;00m (\n\u001b[1;32m    228\u001b[0m     partition[\u001b[38;5;124m'\u001b[39m\u001b[38;5;124mpartition\u001b[39m\u001b[38;5;124m'\u001b[39m]\n\u001b[1;32m    229\u001b[0m     \u001b[38;5;129;01min\u001b[39;00m \u001b[38;5;28mself\u001b[39m\u001b[38;5;241m.\u001b[39m_UNSUPPORTED_DUALSTACK_PARTITIONS\n\u001b[1;32m    230\u001b[0m ):\n\u001b[1;32m    231\u001b[0m     \u001b[38;5;28;01mcontinue\u001b[39;00m\n\u001b[0;32m--> 232\u001b[0m result \u001b[38;5;241m=\u001b[39m \u001b[38;5;28;43mself\u001b[39;49m\u001b[38;5;241;43m.\u001b[39;49m\u001b[43m_endpoint_for_partition\u001b[49m\u001b[43m(\u001b[49m\n\u001b[1;32m    233\u001b[0m \u001b[43m    \u001b[49m\u001b[43mpartition\u001b[49m\u001b[43m,\u001b[49m\n\u001b[1;32m    234\u001b[0m \u001b[43m    \u001b[49m\u001b[43mservice_name\u001b[49m\u001b[43m,\u001b[49m\n\u001b[1;32m    235\u001b[0m \u001b[43m    \u001b[49m\u001b[43mregion_name\u001b[49m\u001b[43m,\u001b[49m\n\u001b[1;32m    236\u001b[0m \u001b[43m    \u001b[49m\u001b[43muse_dualstack_endpoint\u001b[49m\u001b[43m,\u001b[49m\n\u001b[1;32m    237\u001b[0m \u001b[43m    \u001b[49m\u001b[43muse_fips_endpoint\u001b[49m\u001b[43m,\u001b[49m\n\u001b[1;32m    238\u001b[0m \u001b[43m\u001b[49m\u001b[43m)\u001b[49m\n\u001b[1;32m    239\u001b[0m \u001b[38;5;28;01mif\u001b[39;00m result:\n\u001b[1;32m    240\u001b[0m     \u001b[38;5;28;01mreturn\u001b[39;00m result\n",
      "File \u001b[0;32m~/Desktop/DEV_bkup/DEV/Qsharp/.venv/lib/python3.12/site-packages/botocore/regions.py:280\u001b[0m, in \u001b[0;36mEndpointResolver._endpoint_for_partition\u001b[0;34m(self, partition, service_name, region_name, use_dualstack_endpoint, use_fips_endpoint, force_partition)\u001b[0m\n\u001b[1;32m    278\u001b[0m         region_name \u001b[38;5;241m=\u001b[39m service_data[\u001b[38;5;124m'\u001b[39m\u001b[38;5;124mpartitionEndpoint\u001b[39m\u001b[38;5;124m'\u001b[39m]\n\u001b[1;32m    279\u001b[0m     \u001b[38;5;28;01melse\u001b[39;00m:\n\u001b[0;32m--> 280\u001b[0m         \u001b[38;5;28;01mraise\u001b[39;00m NoRegionError()\n\u001b[1;32m    282\u001b[0m resolve_kwargs \u001b[38;5;241m=\u001b[39m {\n\u001b[1;32m    283\u001b[0m     \u001b[38;5;124m'\u001b[39m\u001b[38;5;124mpartition\u001b[39m\u001b[38;5;124m'\u001b[39m: partition,\n\u001b[1;32m    284\u001b[0m     \u001b[38;5;124m'\u001b[39m\u001b[38;5;124mservice_name\u001b[39m\u001b[38;5;124m'\u001b[39m: service_name,\n\u001b[0;32m   (...)\u001b[0m\n\u001b[1;32m    288\u001b[0m     \u001b[38;5;124m'\u001b[39m\u001b[38;5;124muse_fips_endpoint\u001b[39m\u001b[38;5;124m'\u001b[39m: use_fips_endpoint,\n\u001b[1;32m    289\u001b[0m }\n\u001b[1;32m    291\u001b[0m \u001b[38;5;66;03m# Attempt to resolve the exact region for this partition.\u001b[39;00m\n",
      "\u001b[0;31mNoRegionError\u001b[0m: You must specify a region."
     ]
    }
   ],
   "source": [
    "# from braket.devices import Devices\n",
    "# from braket.aws import AwsDevice\n",
    "\n",
    "# qpu_device = Devices.Rigetti.AspenM3\n",
    "# qpu_device_arn = qpu_device.value\n",
    "\n",
    "# qpu_available = False\n",
    "\n",
    "# if AwsDevice(qpu_device_arn).is_available:\n",
    "#     device_arn = qpu_device_arn\n",
    "#     qpu_available = True\n",
    "\n",
    "# else:\n",
    "#     device_arn = \"local:pennylane/lightning.qubit\"\n",
    "#     print(\"AspenM3 is not available. Falling back to lightning.qubit simulator.\")\n",
    "\n",
    "from braket.aws import AwsDevice\n",
    "\n",
    "# ARN for Rigetti Aspen-M3\n",
    "qpu_device_arn = \"arn:aws:braket:us-west-1::device/qpu/rigetti/Aspen-M-3\"\n",
    "\n",
    "# Load the device\n",
    "qpu_device = AwsDevice(qpu_device_arn)\n",
    "\n",
    "# Check if the device is available\n",
    "qpu_available = qpu_device.is_available\n",
    "\n",
    "print(f\"QPU Available: {qpu_available}\")\n",
    "\n"
   ]
  },
  {
   "cell_type": "code",
   "execution_count": 15,
   "metadata": {},
   "outputs": [
    {
     "data": {
      "text/plain": [
       "(((np.float64(0.6), np.float64(1.0)),\n",
       "  (np.float64(-0.4), np.float64(1.0)),\n",
       "  (np.float64(-0.03), np.float64(0.846))),\n",
       " (np.float64(0.6), np.float64(1.0)))"
      ]
     },
     "execution_count": 15,
     "metadata": {},
     "output_type": "execute_result"
    }
   ],
   "source": [
    "shots_list = [5, 10, 1000]\n",
    "dev = qml.device(\"default.qubit\", wires=2, shots=shots_list)\n",
    "\n",
    "@qml.qnode(dev)\n",
    "def circuit(x):\n",
    "    qml.RX(x, wires=0)\n",
    "    qml.CNOT(wires=[0, 1])\n",
    "    return qml.expval(qml.PauliZ(0) @ qml.PauliX(1)), qml.expval(qml.PauliZ(0))\n",
    "results = circuit(0.5)\n",
    "results,results[0]"
   ]
  },
  {
   "cell_type": "code",
   "execution_count": 19,
   "metadata": {},
   "outputs": [
    {
     "name": "stdout",
     "output_type": "stream",
     "text": [
      "[ 0.12370198+0.48445621j -0.12370198-0.48445621j -0.12370198+0.48445621j\n",
      "  0.12370198-0.48445621j]\n",
      "\n",
      "\n",
      "[ 0.19134172+0.46193977j -0.19134172-0.46193977j -0.19134172+0.46193977j\n",
      "  0.19134172-0.46193977j]\n"
     ]
    }
   ],
   "source": [
    "# def my_first_quantum_function(theta):\n",
    "import numpy as np\n",
    "#     qml.RX(theta, wires = 0)\n",
    "#     qml.PauliY(wires = 1)\n",
    "#     # qml.Hadamard(wires = 0)\n",
    "#     qml.Hadamard(wires = 1)\n",
    "\n",
    "#     return qml.state()\n",
    "# dev = qml.device(\"default.qubit\", wires = 2)\n",
    "\n",
    "# import pennylane as qml\n",
    "\n",
    "# Define a quantum device\n",
    "dev = qml.device(\"default.qubit\", wires=2)\n",
    "\n",
    "@qml.qnode(dev)\n",
    "def my_first_quantum_function(theta):\n",
    "    qml.RX(theta, wires=0) #This applies a rotation gate around the X-axis of the Bloch sphere by an angle theta.\n",
    "    qml.PauliY(wires=1) #  Pauli-Y operation to qubit 1.\n",
    "    qml.Hadamard(wires=0) #Hadamard gate creates a superposition from a basis state. \n",
    "#     ∣0⟩→ ∣0⟩+∣1⟩ /sqrt(2)\n",
    "# ​∣1⟩→ ∣0⟩−∣1⟩/sqrt(2) ​\n",
    "\n",
    "    qml.Hadamard(wires=1) #\n",
    "\n",
    "    return qml.state()  # Requires `shots=None` for state simulation\n",
    "\n",
    "# Call the quantum function\n",
    "theta = 0.5  # Example parameter\n",
    "quantum_state = my_first_quantum_function(theta)\n",
    "\n",
    "print(quantum_state) \n",
    "print(\"\\n\") # Prints the quantum state vector\n",
    "my_first_qnode = qml.QNode(my_first_quantum_function, dev) \n",
    "print(my_first_qnode(np.pi/4))\n",
    "# The list above represents the amplitudes of the state in the computational basis {|00),|01),|10).|11)}\n"
   ]
  },
  {
   "cell_type": "code",
   "execution_count": 27,
   "metadata": {},
   "outputs": [
    {
     "name": "stdout",
     "output_type": "stream",
     "text": [
      "0: ──RX(0.30)──H─╭●──RX(0.20)─┤  \n",
      "1: ──Y───────────╰X──Y────────┤  \n"
     ]
    }
   ],
   "source": [
    "def subcircuit_1(angle):\n",
    "    qml.RX(angle,wires = 0)\n",
    "    qml.PauliY(wires=1)\n",
    "\n",
    "def subcircuit_2():\n",
    "    qml.Hadamard(wires = 0)\n",
    "    qml.CNOT(wires = [0,1])\n",
    "\n",
    "def full_circuit(theta,phi):\n",
    "    subcircuit_1(theta)\n",
    "    subcircuit_2()\n",
    "    subcircuit_1(phi)\n",
    "\n",
    "# print(qml.draw(full_circuit(.3,.2)))\n",
    "theta = 0.3\n",
    "phi = 0.2 \n",
    "print(qml.draw(full_circuit)(theta,phi))\n",
    "\n"
   ]
  },
  {
   "cell_type": "code",
   "execution_count": null,
   "metadata": {},
   "outputs": [
    {
     "name": "stdout",
     "output_type": "stream",
     "text": [
      "[0.5+0.j 0.5+0.j 0.5+0.j 0.5+0.j]\n"
     ]
    }
   ],
   "source": [
    "dev = qml.device('default.qubit', wires=2)\n",
    "@qml.qnode(dev)\n",
    "def circuit(state=None):\n",
    "    qml.StatePrep(state,wires = range(2)) #prepares a custom quantum state.\n",
    "    return qml.state()\n",
    "\n",
    "state = circuit([1/2,1/2,1/2,1/2])   #represents a valid quantum state, where the sum of the squared amplitudes must equal 1. input vector is 1/2{|00),|01),|10).|11)} each state has equal prob no phase difference\n",
    "print(state)\n",
    "\n",
    "\n",
    "# Using qml.StatePrep write the state_preparation QNode that prepares a quantum state proportional to\n",
    "\n",
    "# Note that state_preparation takes the complex numbers\n",
    "# A(),B(),G() as arguments"
   ]
  }
 ],
 "metadata": {
  "kernelspec": {
   "display_name": ".venv",
   "language": "python",
   "name": "python3"
  },
  "language_info": {
   "codemirror_mode": {
    "name": "ipython",
    "version": 3
   },
   "file_extension": ".py",
   "mimetype": "text/x-python",
   "name": "python",
   "nbconvert_exporter": "python",
   "pygments_lexer": "ipython3",
   "version": "3.12.3"
  }
 },
 "nbformat": 4,
 "nbformat_minor": 2
}
