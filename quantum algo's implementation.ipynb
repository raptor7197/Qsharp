{
  "nbformat": 4,
  "nbformat_minor": 0,
  "metadata": {
    "colab": {
      "provenance": []
    },
    "kernelspec": {
      "name": "python3",
      "display_name": "Python 3"
    },
    "language_info": {
      "name": "python"
    }
  },
  "cells": [
    {
      "cell_type": "code",
      "execution_count": null,
      "metadata": {
        "id": "9tI1cF0ILHOb"
      },
      "outputs": [],
      "source": [
        "!pip install pennylane\n",
        "\n",
        "\n",
        "!pip install pylatexenc\n",
        "\n",
        "!pip install qiskit-aer"
      ]
    },
    {
      "cell_type": "code",
      "source": [
        "import pennylane as qml\n",
        "from pennylane import numpy as np\n",
        "\n"
      ],
      "metadata": {
        "id": "3Nv7LJpXLf4f"
      },
      "execution_count": null,
      "outputs": []
    },
    {
      "cell_type": "markdown",
      "source": [
        "X gate\n"
      ],
      "metadata": {
        "id": "lH38YaEtMBvg"
      }
    },
    {
      "cell_type": "markdown",
      "source": [
        "deutsch_jozsa algo\n"
      ],
      "metadata": {
        "id": "OOjIRZtfSgjq"
      }
    },
    {
      "cell_type": "code",
      "source": [
        "import pennylane as qml\n",
        "\n",
        "dev = qml.device(\"default.qubit\", wires=n+1, shots=1)\n",
        "\n",
        "n = 3\n",
        "def ob():\n",
        "    for i in range(n):\n",
        "        qml.CNOT(wires=[i, n])\n",
        "\n",
        "@qml.qnode(dev)\n",
        "def deutsch_jozsa():\n",
        "    qml.PauliX(wires=n)\n",
        "    for i in range(n+1):\n",
        "        qml.Hadamard(wires=i)\n",
        "    ob()\n",
        "    for i in range(n):\n",
        "        qml.Hadamard(wires=i)\n",
        "    return qml.sample(wires=range(n))\n",
        "\n",
        "print(\" result:\", deutsch_jozsa())\n"
      ],
      "metadata": {
        "colab": {
          "base_uri": "https://localhost:8080/"
        },
        "id": "QiwXw9TQMDJ1",
        "outputId": "09dbdb92-1377-4e43-c0ee-f0d794ddaf22"
      },
      "execution_count": 52,
      "outputs": [
        {
          "output_type": "stream",
          "name": "stdout",
          "text": [
            " result: [1 1 1]\n"
          ]
        }
      ]
    },
    {
      "cell_type": "markdown",
      "source": [
        "Bernstein–Vazirani\n",
        " algo\n",
        ""
      ],
      "metadata": {
        "id": "7-Ws-UG_ScEL"
      }
    },
    {
      "cell_type": "code",
      "metadata": {
        "colab": {
          "base_uri": "https://localhost:8080/"
        },
        "id": "a5662faa",
        "outputId": "69a426d0-8855-4733-cf5a-0788532835cf"
      },
      "source": [
        "s = '1011'\n",
        "n = len(s)\n",
        "dev = qml.device(\"default.qubit\", wires=n+1, shots=1)\n",
        "\n",
        "def bv_oracle():\n",
        "    for i in range(n):\n",
        "        if s[i] == '1':\n",
        "            qml.CNOT(wires=[i, n])\n",
        "\n",
        "@qml.qnode(dev)\n",
        "def bernstein_vazirani():\n",
        "    qml.PauliX(wires=n)\n",
        "    for i in range(n+1):\n",
        "        qml.Hadamard(wires=i)\n",
        "    bv_oracle()\n",
        "    for i in range(n):\n",
        "        qml.Hadamard(wires=i)\n",
        "    return qml.sample(wires=range(n))\n",
        "\n",
        "print(\" result:\", bernstein_vazirani())\n"
      ],
      "execution_count": 51,
      "outputs": [
        {
          "output_type": "stream",
          "name": "stdout",
          "text": [
            " result: [1 0 1 1]\n"
          ]
        }
      ]
    },
    {
      "cell_type": "markdown",
      "source": [
        "grover's algo\n"
      ],
      "metadata": {
        "id": "HQRzpvSbTPEr"
      }
    },
    {
      "cell_type": "code",
      "metadata": {
        "colab": {
          "base_uri": "https://localhost:8080/"
        },
        "id": "2ae4f5db",
        "outputId": "b4430340-039c-4b0f-e417-b8159862135a"
      },
      "source": [
        "NUM_QUBITS = 2\n",
        "dev = qml.device(\"default.qubit\", wires=NUM_QUBITS)\n",
        "wires = list(range(NUM_QUBITS))\n",
        "\n",
        "\n",
        "def equal_superposition(wires):\n",
        "    for wire in wires:\n",
        "        qml.Hadamard(wires=wire)\n",
        "\n",
        "\n",
        "@qml.qnode(dev)\n",
        "def circuit():\n",
        "    qml.Snapshot(\"before applying\")\n",
        "    equal_superposition(wires)\n",
        "    qml.Snapshot(\"after applying the H gates\")\n",
        "    return qml.probs(wires=wires)\n",
        "\n",
        "\n",
        "results = qml.snapshots(circuit)()\n",
        "\n",
        "for k, result in results.items():\n",
        "    print(f\"{k}: {result}\")"
      ],
      "execution_count": 57,
      "outputs": [
        {
          "output_type": "stream",
          "name": "stdout",
          "text": [
            "Initial state: [1.+0.j 0.+0.j 0.+0.j 0.+0.j]\n",
            "After applying the Hadamard gates: [0.5+0.j 0.5+0.j 0.5+0.j 0.5+0.j]\n",
            "execution_results: [0.25 0.25 0.25 0.25]\n"
          ]
        }
      ]
    },
    {
      "cell_type": "code",
      "metadata": {
        "id": "8a3f5794"
      },
      "source": [],
      "execution_count": null,
      "outputs": []
    },
    {
      "cell_type": "code",
      "source": [],
      "metadata": {
        "id": "7dSYhOayQwvN"
      },
      "execution_count": null,
      "outputs": []
    },
    {
      "cell_type": "code",
      "source": [],
      "metadata": {
        "id": "Sq38t6uEQ1w-"
      },
      "execution_count": null,
      "outputs": []
    }
  ]
}